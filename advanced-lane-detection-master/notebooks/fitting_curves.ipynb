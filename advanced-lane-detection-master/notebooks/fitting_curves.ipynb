{
 "cells": [
  {
   "cell_type": "code",
   "execution_count": 1,
   "metadata": {
    "collapsed": true,
    "deletable": true,
    "editable": true
   },
   "outputs": [],
   "source": [
    "import matplotlib.pyplot as plt\n",
    "%matplotlib inline\n",
    "import cv2 \n",
    "import numpy as np\n",
    "import pickle\n",
    "from scipy.misc import imread\n",
    "\n",
    "from birdseye import BirdsEye\n",
    "from lanefilter import LaneFilter\n",
    "from curves import Curves\n",
    "from helpers import show_images, save_image, roi"
   ]
  },
  {
   "cell_type": "code",
   "execution_count": 2,
   "metadata": {
    "collapsed": false,
    "deletable": true,
    "editable": true
   },
   "outputs": [],
   "source": [
    "calibration_data = pickle.load(open(\"calibration_data.p\", \"rb\" ))\n",
    "\n",
    "matrix = calibration_data['camera_matrix']\n",
    "dist_coef = calibration_data['distortion_coefficient']\n",
    "\n",
    "source_points = [(580, 460), (205, 720), (1110, 720), (703, 460)]\n",
    "dest_points = [(320, 0), (320, 720), (960, 720), (960, 0)]\n",
    "\n",
    "p = { 'sat_thresh': 120, 'light_thresh': 40, 'light_thresh_agr': 205,\n",
    "      'grad_thresh': (0.7, 1.4), 'mag_thresh': 40, 'x_thresh': 20 }\n",
    "\n",
    "birdsEye = BirdsEye(source_points, dest_points, matrix, dist_coef)\n",
    "laneFilter = LaneFilter(p)\n",
    "curves = Curves(number_of_windows = 9, margin = 100, minimum_pixels = 50, \n",
    "                ym_per_pix = 30 / 720 , xm_per_pix = 3.7 / 700)"
   ]
  },
  {
   "cell_type": "code",
   "execution_count": 3,
   "metadata": {
    "collapsed": false,
    "deletable": true,
    "editable": true
   },
   "outputs": [],
   "source": [
    "def curve_test(path):\n",
    "  img = imread(path)\n",
    "  binary = laneFilter.apply(img)\n",
    "  wb = np.logical_and(birdsEye.sky_view(binary), roi(binary)).astype(np.uint8)\n",
    "  result = curves.fit(wb)\n",
    "  print(\"[real world] left best-fit curve parameters:\", result['real_left_best_fit_curve'])\n",
    "  print(\"[real world] right best-fit curve parameters:\", result['real_right_best_fit_curve'])\n",
    "  print(\"[pixel] left best-fit curve parameters:\", result['pixel_left_best_fit_curve'])\n",
    "  print(\"[pixel] left best-fit curve parameters:\", result['pixel_right_best_fit_curve'])\n",
    "  print(\"[left] current radius of curvature:\", result['left_radius'], \"m\")\n",
    "  print(\"[right] current radius of curvature:\", result['right_radius'], \"m\")\n",
    "  print(\"vehicle position:\", result['vehicle_position_words'])\n",
    "  plt.imshow(result['image'])"
   ]
  },
  {
   "cell_type": "code",
   "execution_count": 4,
   "metadata": {
    "collapsed": false,
    "deletable": true,
    "editable": true
   },
   "outputs": [
    {
     "name": "stdout",
     "output_type": "stream",
     "text": [
      "[real world] left best-fit curve parameters: [  4.68567498e-04  -2.61879574e-02   2.19431869e+00]\n",
      "[real world] right best-fit curve parameters: [  2.37038169e-04  -2.50823064e-02   5.73248022e+00]\n",
      "[pixel] left best-fit curve parameters: [  1.53902613e-04  -2.06436601e-01   4.15141373e+02]\n",
      "[pixel] left best-fit curve parameters: [  7.78560054e-05  -1.97720884e-01   1.08452328e+03]\n",
      "[left] current radius of curvature: 1067.08805899 m\n",
      "[right] current radius of curvature: 2109.73810098 m\n",
      "vehicle position: 0.13 m right of center\n"
     ]
    },
    {
     "data": {
      "image/png": "[encoded data removed]",
      "text/plain": [
       "<matplotlib.figure.Figure at 0x10fa83a90>"
      ]
     },
     "metadata": {},
     "output_type": "display_data"
    }
   ],
   "source": [
    "curve_test(\"test_images/test1.jpg\")"
   ]
  },
  {
   "cell_type": "code",
   "execution_count": 5,
   "metadata": {
    "collapsed": false,
    "deletable": true,
    "editable": true
   },
   "outputs": [
    {
     "name": "stdout",
     "output_type": "stream",
     "text": [
      "[real world] left best-fit curve parameters: [ -7.02114020e-04   3.97765732e-02   1.44017797e+00]\n",
      "[real world] right best-fit curve parameters: [ -1.51996477e-04   2.62856822e-02   4.81262927e+00]\n",
      "[pixel] left best-fit curve parameters: [ -2.30611775e-04   3.13554068e-01   2.72466102e+02]\n",
      "[pixel] left best-fit curve parameters: [ -4.99237677e-05   2.07206954e-01   9.10497430e+02]\n",
      "[left] current radius of curvature: 712.140946864 m\n",
      "[right] current radius of curvature: 3291.00402479 m\n",
      "vehicle position: 0.35 m right of center\n"
     ]
    },
    {
     "data": {
      "image/png": "[encoded data removed]",
      "text/plain": [
       "<matplotlib.figure.Figure at 0x110ac2b00>"
      ]
     },
     "metadata": {},
     "output_type": "display_data"
    }
   ],
   "source": [
    "curve_test(\"test_images/test2.jpg\")"
   ]
  },
  {
   "cell_type": "code",
   "execution_count": 6,
   "metadata": {
    "collapsed": false,
    "deletable": true,
    "editable": true
   },
   "outputs": [
    {
     "name": "stdout",
     "output_type": "stream",
     "text": [
      "[real world] left best-fit curve parameters: [  3.88347451e-04  -3.78982629e-02   2.58001454e+00]\n",
      "[real world] right best-fit curve parameters: [  4.53502052e-04  -3.42454112e-02   5.81137293e+00]\n",
      "[pixel] left best-fit curve parameters: [  1.27554061e-04  -2.98747568e-01   4.88110859e+02]\n",
      "[pixel] left best-fit curve parameters: [  1.48954315e-04  -2.69952566e-01   1.09944893e+03]\n",
      "[left] current radius of curvature: 1287.91838502 m\n",
      "[right] current radius of curvature: 1102.61269943 m\n",
      "vehicle position: 0.11 m right of center\n"
     ]
    },
    {
     "data": {
      "image/png": "[encoded data removed]",
      "text/plain": [
       "<matplotlib.figure.Figure at 0x110ac74a8>"
      ]
     },
     "metadata": {},
     "output_type": "display_data"
    }
   ],
   "source": [
    "curve_test(\"test_images/test3.jpg\")"
   ]
  },
  {
   "cell_type": "code",
   "execution_count": 7,
   "metadata": {
    "collapsed": false,
    "deletable": true,
    "editable": true
   },
   "outputs": [
    {
     "name": "stdout",
     "output_type": "stream",
     "text": [
      "[real world] left best-fit curve parameters: [  3.33022440e-04  -1.82659201e-02   2.17934762e+00]\n",
      "[real world] right best-fit curve parameters: [  8.58865755e-04  -3.90634079e-02   5.81322996e+00]\n",
      "[pixel] left best-fit curve parameters: [  1.09382371e-04  -1.43988109e-01   4.12309010e+02]\n",
      "[pixel] left best-fit curve parameters: [  2.82097423e-04  -3.07932270e-01   1.09980026e+03]\n",
      "[left] current radius of curvature: 1501.4069511 m\n",
      "[right] current radius of curvature: 582.298921827 m\n",
      "vehicle position: 0.29 m right of center\n"
     ]
    },
    {
     "data": {
      "image/png": "[encoded data removed]",
      "text/plain": [
       "<matplotlib.figure.Figure at 0x110c5d9e8>"
      ]
     },
     "metadata": {},
     "output_type": "display_data"
    }
   ],
   "source": [
    "curve_test(\"test_images/test4.jpg\")"
   ]
  },
  {
   "cell_type": "code",
   "execution_count": 8,
   "metadata": {
    "collapsed": false,
    "deletable": true,
    "editable": true
   },
   "outputs": [
    {
     "name": "stdout",
     "output_type": "stream",
     "text": [
      "[real world] left best-fit curve parameters: [  7.31552375e-04  -4.14797348e-02   2.15356924e+00]\n",
      "[real world] right best-fit curve parameters: [  3.81290902e-04  -2.92450110e-02   5.71812881e+00]\n",
      "[pixel] left best-fit curve parameters: [  2.40280904e-04  -3.26979891e-01   4.07432018e+02]\n",
      "[pixel] left best-fit curve parameters: [  1.25236314e-04  -2.30534997e-01   1.08180815e+03]\n",
      "[left] current radius of curvature: 683.48403414 m\n",
      "[right] current radius of curvature: 1311.41447804 m\n",
      "vehicle position: 0.01 m left of center\n"
     ]
    },
    {
     "data": {
      "image/png": "[encoded data removed]",
      "text/plain": [
       "<matplotlib.figure.Figure at 0x1023d1940>"
      ]
     },
     "metadata": {},
     "output_type": "display_data"
    }
   ],
   "source": [
    "curve_test(\"test_images/test5.jpg\")"
   ]
  },
  {
   "cell_type": "code",
   "execution_count": 9,
   "metadata": {
    "collapsed": false,
    "deletable": true,
    "editable": true
   },
   "outputs": [
    {
     "name": "stdout",
     "output_type": "stream",
     "text": [
      "[real world] left best-fit curve parameters: [  4.07619638e-04  -3.94705586e-02   2.69252793e+00]\n",
      "[real world] right best-fit curve parameters: [  9.99777706e-04  -4.85624756e-02   6.02875317e+00]\n",
      "[pixel] left best-fit curve parameters: [  1.33884078e-04  -3.11141791e-01   5.09397177e+02]\n",
      "[pixel] left best-fit curve parameters: [  3.28380440e-04  -3.82812308e-01   1.14057492e+03]\n",
      "[left] current radius of curvature: 1227.04848957 m\n",
      "[right] current radius of curvature: 500.209080721 m\n",
      "vehicle position: 0.29 m right of center\n"
     ]
    },
    {
     "data": {
      "image/png": "[encoded data removed]",
      "text/plain": [
       "<matplotlib.figure.Figure at 0x10ff41128>"
      ]
     },
     "metadata": {},
     "output_type": "display_data"
    }
   ],
   "source": [
    "curve_test(\"test_images/test6.jpg\")"
   ]
  },
  {
   "cell_type": "code",
   "execution_count": 10,
   "metadata": {
    "collapsed": false,
    "deletable": true,
    "editable": true
   },
   "outputs": [
    {
     "name": "stdout",
     "output_type": "stream",
     "text": [
      "[real world] left best-fit curve parameters: [ -1.62054436e-04   4.31245011e-03   1.71104116e+00]\n",
      "[real world] right best-fit curve parameters: [  1.45790386e-04  -3.29495738e-03   5.03763237e+00]\n",
      "[pixel] left best-fit curve parameters: [ -5.32273392e-05   3.39945391e-02   3.23710490e+02]\n",
      "[pixel] left best-fit curve parameters: [  4.78853559e-05  -2.59737632e-02   9.53065583e+02]\n",
      "[left] current radius of curvature: 3085.51848009 m\n",
      "[right] current radius of curvature: 3429.73435532 m\n",
      "vehicle position: 0.0 m left of center\n"
     ]
    },
    {
     "data": {
      "image/png": "[encoded data removed]",
      "text/plain": [
       "<matplotlib.figure.Figure at 0x110ffef98>"
      ]
     },
     "metadata": {},
     "output_type": "display_data"
    }
   ],
   "source": [
    "curve_test(\"test_images/straight_lines1.jpg\")"
   ]
  },
  {
   "cell_type": "code",
   "execution_count": 11,
   "metadata": {
    "collapsed": false,
    "deletable": true,
    "editable": true
   },
   "outputs": [
    {
     "name": "stdout",
     "output_type": "stream",
     "text": [
      "[real world] left best-fit curve parameters: [  1.64554188e-04  -4.59339191e-03   1.73918011e+00]\n",
      "[real world] right best-fit curve parameters: [ -2.26645751e-05  -1.96955590e-03   5.13256373e+00]\n",
      "[pixel] left best-fit curve parameters: [  5.40483913e-05  -3.62091705e-02   3.29034074e+02]\n",
      "[pixel] left best-fit curve parameters: [ -7.44425795e-06  -1.55257785e-02   9.71025571e+02]\n",
      "[left] current radius of curvature: 3038.63982034 m\n",
      "[right] current radius of curvature: 22061.2260569 m\n",
      "vehicle position: 0.02 m right of center\n"
     ]
    },
    {
     "data": {
      "image/png": "[encoded data removed]",
      "text/plain": [
       "<matplotlib.figure.Figure at 0x110f4c5c0>"
      ]
     },
     "metadata": {},
     "output_type": "display_data"
    }
   ],
   "source": [
    "curve_test(\"test_images/straight_lines2.jpg\")"
   ]
  },
  {
   "cell_type": "code",
   "execution_count": null,
   "metadata": {
    "collapsed": true,
    "deletable": true,
    "editable": true
   },
   "outputs": [],
   "source": []
  }
 ],
 "metadata": {
  "kernelspec": {
   "display_name": "Python 3",
   "language": "python",
   "name": "python3"
  },
  "language_info": {
   "codemirror_mode": {
    "name": "ipython",
    "version": 3
   },
   "file_extension": ".py",
   "mimetype": "text/x-python",
   "name": "python",
   "nbconvert_exporter": "python",
   "pygments_lexer": "ipython3",
   "version": "3.5.2"
  },
  "widgets": {
   "state": {},
   "version": "1.1.2"
  }
 },
 "nbformat": 4,
 "nbformat_minor": 2
}
